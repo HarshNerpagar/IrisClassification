{
  "nbformat": 4,
  "nbformat_minor": 0,
  "metadata": {
    "colab": {
      "provenance": [],
      "gpuType": "T4"
    },
    "kernelspec": {
      "name": "python3",
      "display_name": "Python 3"
    },
    "language_info": {
      "name": "python"
    },
    "accelerator": "GPU"
  },
  "cells": [
    {
      "cell_type": "code",
      "execution_count": null,
      "metadata": {
        "id": "BfUW9t95b4LB"
      },
      "outputs": [],
      "source": [
        "import torch.nn as nn\n",
        "from sklearn.datasets import load_iris\n",
        "from sklearn.model_selection import train_test_split\n",
        "from sklearn.preprocessing import StandardScaler\n",
        "import torch\n",
        "import numpy as np\n",
        "from sklearn.preprocessing import OneHotEncoder"
      ]
    },
    {
      "cell_type": "code",
      "source": [
        "class SoftmaxClassfication(nn.Module):\n",
        "    def __init__(self, input_dim, output_dim):\n",
        "        super(SoftmaxClassfication, self).__init__()\n",
        "        self.linear1=nn.Linear(input_dim, 10)\n",
        "        self.linear2=nn.Linear(10, output_dim)\n",
        "\n",
        "    def forward(self, x):\n",
        "          x=self.linear1(x)\n",
        "          x=nn.Sigmoid()(x)\n",
        "          x=self.linear2(x)\n",
        "          x=nn.Softmax()(x)\n",
        "          return x"
      ],
      "metadata": {
        "id": "xQvELCQ9c4N8"
      },
      "execution_count": null,
      "outputs": []
    },
    {
      "cell_type": "code",
      "source": [
        "x,y=load_iris(return_X_y=True)\n",
        "y=y.reshape(-1,1)\n",
        "scaler=StandardScaler()\n",
        "x=scaler.fit_transform(x)\n",
        "y=OneHotEncoder(sparse=False).fit_transform(y)\n",
        "print(y)\n",
        "x=torch.tensor(x, dtype=torch.float32).to('cuda')\n",
        "y=torch.tensor(y, dtype=torch.float32).to('cuda')\n",
        "x_train, x_test, y_train, y_test=train_test_split(x, y, test_size=0.2, random_state=42)\n",
        "x.shape, y.shape, x_train.shape, x_test.shape, y_train.shape, y_test.shape"
      ],
      "metadata": {
        "colab": {
          "base_uri": "https://localhost:8080/"
        },
        "id": "R1k7NavGgwuT",
        "outputId": "60422d4c-4e8e-431f-f088-d84066792c03"
      },
      "execution_count": null,
      "outputs": [
        {
          "output_type": "stream",
          "name": "stdout",
          "text": [
            "[[1. 0. 0.]\n",
            " [1. 0. 0.]\n",
            " [1. 0. 0.]\n",
            " [1. 0. 0.]\n",
            " [1. 0. 0.]\n",
            " [1. 0. 0.]\n",
            " [1. 0. 0.]\n",
            " [1. 0. 0.]\n",
            " [1. 0. 0.]\n",
            " [1. 0. 0.]\n",
            " [1. 0. 0.]\n",
            " [1. 0. 0.]\n",
            " [1. 0. 0.]\n",
            " [1. 0. 0.]\n",
            " [1. 0. 0.]\n",
            " [1. 0. 0.]\n",
            " [1. 0. 0.]\n",
            " [1. 0. 0.]\n",
            " [1. 0. 0.]\n",
            " [1. 0. 0.]\n",
            " [1. 0. 0.]\n",
            " [1. 0. 0.]\n",
            " [1. 0. 0.]\n",
            " [1. 0. 0.]\n",
            " [1. 0. 0.]\n",
            " [1. 0. 0.]\n",
            " [1. 0. 0.]\n",
            " [1. 0. 0.]\n",
            " [1. 0. 0.]\n",
            " [1. 0. 0.]\n",
            " [1. 0. 0.]\n",
            " [1. 0. 0.]\n",
            " [1. 0. 0.]\n",
            " [1. 0. 0.]\n",
            " [1. 0. 0.]\n",
            " [1. 0. 0.]\n",
            " [1. 0. 0.]\n",
            " [1. 0. 0.]\n",
            " [1. 0. 0.]\n",
            " [1. 0. 0.]\n",
            " [1. 0. 0.]\n",
            " [1. 0. 0.]\n",
            " [1. 0. 0.]\n",
            " [1. 0. 0.]\n",
            " [1. 0. 0.]\n",
            " [1. 0. 0.]\n",
            " [1. 0. 0.]\n",
            " [1. 0. 0.]\n",
            " [1. 0. 0.]\n",
            " [1. 0. 0.]\n",
            " [0. 1. 0.]\n",
            " [0. 1. 0.]\n",
            " [0. 1. 0.]\n",
            " [0. 1. 0.]\n",
            " [0. 1. 0.]\n",
            " [0. 1. 0.]\n",
            " [0. 1. 0.]\n",
            " [0. 1. 0.]\n",
            " [0. 1. 0.]\n",
            " [0. 1. 0.]\n",
            " [0. 1. 0.]\n",
            " [0. 1. 0.]\n",
            " [0. 1. 0.]\n",
            " [0. 1. 0.]\n",
            " [0. 1. 0.]\n",
            " [0. 1. 0.]\n",
            " [0. 1. 0.]\n",
            " [0. 1. 0.]\n",
            " [0. 1. 0.]\n",
            " [0. 1. 0.]\n",
            " [0. 1. 0.]\n",
            " [0. 1. 0.]\n",
            " [0. 1. 0.]\n",
            " [0. 1. 0.]\n",
            " [0. 1. 0.]\n",
            " [0. 1. 0.]\n",
            " [0. 1. 0.]\n",
            " [0. 1. 0.]\n",
            " [0. 1. 0.]\n",
            " [0. 1. 0.]\n",
            " [0. 1. 0.]\n",
            " [0. 1. 0.]\n",
            " [0. 1. 0.]\n",
            " [0. 1. 0.]\n",
            " [0. 1. 0.]\n",
            " [0. 1. 0.]\n",
            " [0. 1. 0.]\n",
            " [0. 1. 0.]\n",
            " [0. 1. 0.]\n",
            " [0. 1. 0.]\n",
            " [0. 1. 0.]\n",
            " [0. 1. 0.]\n",
            " [0. 1. 0.]\n",
            " [0. 1. 0.]\n",
            " [0. 1. 0.]\n",
            " [0. 1. 0.]\n",
            " [0. 1. 0.]\n",
            " [0. 1. 0.]\n",
            " [0. 1. 0.]\n",
            " [0. 1. 0.]\n",
            " [0. 0. 1.]\n",
            " [0. 0. 1.]\n",
            " [0. 0. 1.]\n",
            " [0. 0. 1.]\n",
            " [0. 0. 1.]\n",
            " [0. 0. 1.]\n",
            " [0. 0. 1.]\n",
            " [0. 0. 1.]\n",
            " [0. 0. 1.]\n",
            " [0. 0. 1.]\n",
            " [0. 0. 1.]\n",
            " [0. 0. 1.]\n",
            " [0. 0. 1.]\n",
            " [0. 0. 1.]\n",
            " [0. 0. 1.]\n",
            " [0. 0. 1.]\n",
            " [0. 0. 1.]\n",
            " [0. 0. 1.]\n",
            " [0. 0. 1.]\n",
            " [0. 0. 1.]\n",
            " [0. 0. 1.]\n",
            " [0. 0. 1.]\n",
            " [0. 0. 1.]\n",
            " [0. 0. 1.]\n",
            " [0. 0. 1.]\n",
            " [0. 0. 1.]\n",
            " [0. 0. 1.]\n",
            " [0. 0. 1.]\n",
            " [0. 0. 1.]\n",
            " [0. 0. 1.]\n",
            " [0. 0. 1.]\n",
            " [0. 0. 1.]\n",
            " [0. 0. 1.]\n",
            " [0. 0. 1.]\n",
            " [0. 0. 1.]\n",
            " [0. 0. 1.]\n",
            " [0. 0. 1.]\n",
            " [0. 0. 1.]\n",
            " [0. 0. 1.]\n",
            " [0. 0. 1.]\n",
            " [0. 0. 1.]\n",
            " [0. 0. 1.]\n",
            " [0. 0. 1.]\n",
            " [0. 0. 1.]\n",
            " [0. 0. 1.]\n",
            " [0. 0. 1.]\n",
            " [0. 0. 1.]\n",
            " [0. 0. 1.]\n",
            " [0. 0. 1.]\n",
            " [0. 0. 1.]]\n"
          ]
        },
        {
          "output_type": "stream",
          "name": "stderr",
          "text": [
            "/usr/local/lib/python3.10/dist-packages/sklearn/preprocessing/_encoders.py:975: FutureWarning: `sparse` was renamed to `sparse_output` in version 1.2 and will be removed in 1.4. `sparse_output` is ignored unless you leave `sparse` to its default value.\n",
            "  warnings.warn(\n"
          ]
        },
        {
          "output_type": "execute_result",
          "data": {
            "text/plain": [
              "(torch.Size([150, 4]),\n",
              " torch.Size([150, 3]),\n",
              " torch.Size([120, 4]),\n",
              " torch.Size([30, 4]),\n",
              " torch.Size([120, 3]),\n",
              " torch.Size([30, 3]))"
            ]
          },
          "metadata": {},
          "execution_count": 30
        }
      ]
    },
    {
      "cell_type": "code",
      "source": [
        "model=SoftmaxClassfication(4,3)\n",
        "loss_fn=nn.CrossEntropyLoss()\n",
        "optimizer=torch.optim.AdamW(model.parameters(), lr=0.01)"
      ],
      "metadata": {
        "id": "GTRovqtVgAI0"
      },
      "execution_count": null,
      "outputs": []
    },
    {
      "cell_type": "code",
      "source": [
        "model.train()\n",
        "losses=[]\n",
        "epoch=[]\n",
        "model.to('cuda')\n",
        "for i in range(100):\n",
        "  optimizer.zero_grad()\n",
        "  y_pred=model.forward(x_train)\n",
        "  loss=loss_fn(y_pred, y_train)\n",
        "  loss.backward()\n",
        "  optimizer.step()\n",
        "  losses.append(loss.item())\n",
        "  epoch.append(i)\n",
        "  if i%10==0:\n",
        "    model.eval()\n",
        "    with torch.inference_mode():\n",
        "      y_pred=model.forward(x_test)\n",
        "      loss=loss_fn(y_pred, y_test)\n",
        "  print(loss)\n",
        "  model.train()"
      ],
      "metadata": {
        "colab": {
          "base_uri": "https://localhost:8080/"
        },
        "id": "dVSiE-UHjsPg",
        "outputId": "1ca67e48-7aeb-4457-be7a-5f5a6298faac"
      },
      "execution_count": null,
      "outputs": [
        {
          "output_type": "stream",
          "name": "stderr",
          "text": [
            "/usr/local/lib/python3.10/dist-packages/torch/nn/modules/module.py:1553: UserWarning: Implicit dimension choice for softmax has been deprecated. Change the call to include dim=X as an argument.\n",
            "  return self._call_impl(*args, **kwargs)\n"
          ]
        },
        {
          "output_type": "stream",
          "name": "stdout",
          "text": [
            "tensor(0.6680, device='cuda:0')\n",
            "tensor(0.6938, device='cuda:0', grad_fn=<DivBackward1>)\n",
            "tensor(0.6921, device='cuda:0', grad_fn=<DivBackward1>)\n",
            "tensor(0.6903, device='cuda:0', grad_fn=<DivBackward1>)\n",
            "tensor(0.6886, device='cuda:0', grad_fn=<DivBackward1>)\n",
            "tensor(0.6869, device='cuda:0', grad_fn=<DivBackward1>)\n",
            "tensor(0.6852, device='cuda:0', grad_fn=<DivBackward1>)\n",
            "tensor(0.6835, device='cuda:0', grad_fn=<DivBackward1>)\n",
            "tensor(0.6818, device='cuda:0', grad_fn=<DivBackward1>)\n",
            "tensor(0.6801, device='cuda:0', grad_fn=<DivBackward1>)\n",
            "tensor(0.6555, device='cuda:0')\n",
            "tensor(0.6768, device='cuda:0', grad_fn=<DivBackward1>)\n",
            "tensor(0.6751, device='cuda:0', grad_fn=<DivBackward1>)\n",
            "tensor(0.6735, device='cuda:0', grad_fn=<DivBackward1>)\n",
            "tensor(0.6719, device='cuda:0', grad_fn=<DivBackward1>)\n",
            "tensor(0.6703, device='cuda:0', grad_fn=<DivBackward1>)\n",
            "tensor(0.6687, device='cuda:0', grad_fn=<DivBackward1>)\n",
            "tensor(0.6671, device='cuda:0', grad_fn=<DivBackward1>)\n",
            "tensor(0.6656, device='cuda:0', grad_fn=<DivBackward1>)\n",
            "tensor(0.6640, device='cuda:0', grad_fn=<DivBackward1>)\n",
            "tensor(0.6453, device='cuda:0')\n",
            "tensor(0.6610, device='cuda:0', grad_fn=<DivBackward1>)\n",
            "tensor(0.6596, device='cuda:0', grad_fn=<DivBackward1>)\n",
            "tensor(0.6581, device='cuda:0', grad_fn=<DivBackward1>)\n",
            "tensor(0.6567, device='cuda:0', grad_fn=<DivBackward1>)\n",
            "tensor(0.6552, device='cuda:0', grad_fn=<DivBackward1>)\n",
            "tensor(0.6538, device='cuda:0', grad_fn=<DivBackward1>)\n",
            "tensor(0.6525, device='cuda:0', grad_fn=<DivBackward1>)\n",
            "tensor(0.6511, device='cuda:0', grad_fn=<DivBackward1>)\n",
            "tensor(0.6498, device='cuda:0', grad_fn=<DivBackward1>)\n",
            "tensor(0.6364, device='cuda:0')\n",
            "tensor(0.6472, device='cuda:0', grad_fn=<DivBackward1>)\n",
            "tensor(0.6459, device='cuda:0', grad_fn=<DivBackward1>)\n",
            "tensor(0.6446, device='cuda:0', grad_fn=<DivBackward1>)\n",
            "tensor(0.6434, device='cuda:0', grad_fn=<DivBackward1>)\n",
            "tensor(0.6422, device='cuda:0', grad_fn=<DivBackward1>)\n",
            "tensor(0.6410, device='cuda:0', grad_fn=<DivBackward1>)\n",
            "tensor(0.6399, device='cuda:0', grad_fn=<DivBackward1>)\n",
            "tensor(0.6387, device='cuda:0', grad_fn=<DivBackward1>)\n",
            "tensor(0.6376, device='cuda:0', grad_fn=<DivBackward1>)\n",
            "tensor(0.6278, device='cuda:0')\n",
            "tensor(0.6354, device='cuda:0', grad_fn=<DivBackward1>)\n",
            "tensor(0.6344, device='cuda:0', grad_fn=<DivBackward1>)\n",
            "tensor(0.6333, device='cuda:0', grad_fn=<DivBackward1>)\n",
            "tensor(0.6323, device='cuda:0', grad_fn=<DivBackward1>)\n",
            "tensor(0.6313, device='cuda:0', grad_fn=<DivBackward1>)\n",
            "tensor(0.6304, device='cuda:0', grad_fn=<DivBackward1>)\n",
            "tensor(0.6294, device='cuda:0', grad_fn=<DivBackward1>)\n",
            "tensor(0.6285, device='cuda:0', grad_fn=<DivBackward1>)\n",
            "tensor(0.6276, device='cuda:0', grad_fn=<DivBackward1>)\n",
            "tensor(0.6197, device='cuda:0')\n",
            "tensor(0.6258, device='cuda:0', grad_fn=<DivBackward1>)\n",
            "tensor(0.6249, device='cuda:0', grad_fn=<DivBackward1>)\n",
            "tensor(0.6241, device='cuda:0', grad_fn=<DivBackward1>)\n",
            "tensor(0.6233, device='cuda:0', grad_fn=<DivBackward1>)\n",
            "tensor(0.6225, device='cuda:0', grad_fn=<DivBackward1>)\n",
            "tensor(0.6217, device='cuda:0', grad_fn=<DivBackward1>)\n",
            "tensor(0.6209, device='cuda:0', grad_fn=<DivBackward1>)\n",
            "tensor(0.6202, device='cuda:0', grad_fn=<DivBackward1>)\n",
            "tensor(0.6195, device='cuda:0', grad_fn=<DivBackward1>)\n",
            "tensor(0.6126, device='cuda:0')\n",
            "tensor(0.6181, device='cuda:0', grad_fn=<DivBackward1>)\n",
            "tensor(0.6174, device='cuda:0', grad_fn=<DivBackward1>)\n",
            "tensor(0.6167, device='cuda:0', grad_fn=<DivBackward1>)\n",
            "tensor(0.6161, device='cuda:0', grad_fn=<DivBackward1>)\n",
            "tensor(0.6154, device='cuda:0', grad_fn=<DivBackward1>)\n",
            "tensor(0.6148, device='cuda:0', grad_fn=<DivBackward1>)\n",
            "tensor(0.6142, device='cuda:0', grad_fn=<DivBackward1>)\n",
            "tensor(0.6136, device='cuda:0', grad_fn=<DivBackward1>)\n",
            "tensor(0.6130, device='cuda:0', grad_fn=<DivBackward1>)\n",
            "tensor(0.6067, device='cuda:0')\n",
            "tensor(0.6119, device='cuda:0', grad_fn=<DivBackward1>)\n",
            "tensor(0.6114, device='cuda:0', grad_fn=<DivBackward1>)\n",
            "tensor(0.6108, device='cuda:0', grad_fn=<DivBackward1>)\n",
            "tensor(0.6103, device='cuda:0', grad_fn=<DivBackward1>)\n",
            "tensor(0.6098, device='cuda:0', grad_fn=<DivBackward1>)\n",
            "tensor(0.6093, device='cuda:0', grad_fn=<DivBackward1>)\n",
            "tensor(0.6089, device='cuda:0', grad_fn=<DivBackward1>)\n",
            "tensor(0.6084, device='cuda:0', grad_fn=<DivBackward1>)\n",
            "tensor(0.6079, device='cuda:0', grad_fn=<DivBackward1>)\n",
            "tensor(0.6021, device='cuda:0')\n",
            "tensor(0.6070, device='cuda:0', grad_fn=<DivBackward1>)\n",
            "tensor(0.6066, device='cuda:0', grad_fn=<DivBackward1>)\n",
            "tensor(0.6062, device='cuda:0', grad_fn=<DivBackward1>)\n",
            "tensor(0.6058, device='cuda:0', grad_fn=<DivBackward1>)\n",
            "tensor(0.6054, device='cuda:0', grad_fn=<DivBackward1>)\n",
            "tensor(0.6050, device='cuda:0', grad_fn=<DivBackward1>)\n",
            "tensor(0.6046, device='cuda:0', grad_fn=<DivBackward1>)\n",
            "tensor(0.6042, device='cuda:0', grad_fn=<DivBackward1>)\n",
            "tensor(0.6038, device='cuda:0', grad_fn=<DivBackward1>)\n",
            "tensor(0.5984, device='cuda:0')\n",
            "tensor(0.6031, device='cuda:0', grad_fn=<DivBackward1>)\n",
            "tensor(0.6028, device='cuda:0', grad_fn=<DivBackward1>)\n",
            "tensor(0.6024, device='cuda:0', grad_fn=<DivBackward1>)\n",
            "tensor(0.6021, device='cuda:0', grad_fn=<DivBackward1>)\n",
            "tensor(0.6018, device='cuda:0', grad_fn=<DivBackward1>)\n",
            "tensor(0.6015, device='cuda:0', grad_fn=<DivBackward1>)\n",
            "tensor(0.6011, device='cuda:0', grad_fn=<DivBackward1>)\n",
            "tensor(0.6008, device='cuda:0', grad_fn=<DivBackward1>)\n",
            "tensor(0.6005, device='cuda:0', grad_fn=<DivBackward1>)\n"
          ]
        }
      ]
    },
    {
      "cell_type": "code",
      "source": [
        "import matplotlib.pyplot as plt\n",
        "plt.plot(epoch, losses,'g')\n",
        "plt.show()"
      ],
      "metadata": {
        "id": "YYr-OWXxqhmc",
        "colab": {
          "base_uri": "https://localhost:8080/",
          "height": 434
        },
        "outputId": "37878d07-a3f0-44bb-fa0f-2c2b673f88a8"
      },
      "execution_count": null,
      "outputs": [
        {
          "output_type": "display_data",
          "data": {
            "text/plain": [
              "<Figure size 640x480 with 1 Axes>"
            ],
            "image/png": "[encoded data removed]"
          },
          "metadata": {}
        }
      ]
    },
    {
      "cell_type": "code",
      "source": [],
      "metadata": {
        "id": "nAjaHs9btMN3"
      },
      "execution_count": null,
      "outputs": []
    }
  ]
}